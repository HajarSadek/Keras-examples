{
 "cells": [
  {
   "cell_type": "code",
   "execution_count": 1,
   "metadata": {},
   "outputs": [],
   "source": [
    "from keras.applications import VGG16\n",
    "conv_base = VGG16(weights='imagenet',\n",
    "    include_top=False,\n",
    "    input_shape=(150, 150, 3))"
   ]
  },
  {
   "cell_type": "code",
   "execution_count": 2,
   "metadata": {},
   "outputs": [
    {
     "name": "stdout",
     "output_type": "stream",
     "text": [
      "Found 2000 images belonging to 2 classes.\n",
      "Found 1000 images belonging to 2 classes.\n",
      "Found 1000 images belonging to 2 classes.\n"
     ]
    }
   ],
   "source": [
    "import os\n",
    "import numpy as np\n",
    "from keras.preprocessing.image import ImageDataGenerator\n",
    "\n",
    "base_dir = '/home/hajar/examples/dcdata/dogs-vs-cats-small/'\n",
    "train_dir = os.path.join(base_dir, 'train')\n",
    "validation_dir = os.path.join(base_dir, 'validation')\n",
    "test_dir = os.path.join(base_dir, 'test')\n",
    "\n",
    "datagen = ImageDataGenerator(rescale=1./255)\n",
    "batch_size = 20\n",
    "\n",
    "def extract_features(directory, sample_count):\n",
    "    features = np.zeros(shape=(sample_count, 4, 4, 512))\n",
    "    labels = np.zeros(shape=(sample_count))\n",
    "    generator = datagen.flow_from_directory(\n",
    "        directory,\n",
    "        target_size=(150, 150),\n",
    "        batch_size=batch_size,\n",
    "        class_mode='binary')\n",
    "    i = 0\n",
    "    for inputs_batch, labels_batch in generator:\n",
    "        features_batch = conv_base.predict(inputs_batch)\n",
    "        features[i * batch_size : (i + 1) * batch_size] = features_batch\n",
    "        labels[i * batch_size : (i + 1) * batch_size] = labels_batch\n",
    "        i += 1\n",
    "        if i * batch_size >= sample_count:\n",
    "            break\n",
    "    return features, labels\n",
    "\n",
    "train_features, train_labels = extract_features(train_dir, 2000)\n",
    "validation_features, validation_labels = extract_features(validation_dir, 1000)\n",
    "test_features, test_labels = extract_features(test_dir, 1000)"
   ]
  },
  {
   "cell_type": "code",
   "execution_count": 3,
   "metadata": {},
   "outputs": [],
   "source": [
    "train_features = np.reshape(train_features, (2000, 4 * 4 * 512))\n",
    "validation_features = np.reshape(validation_features, (1000, 4 * 4 * 512))\n",
    "test_features = np.reshape(test_features, (1000, 4 * 4 * 512))"
   ]
  },
  {
   "cell_type": "code",
   "execution_count": 4,
   "metadata": {},
   "outputs": [
    {
     "name": "stdout",
     "output_type": "stream",
     "text": [
      "Epoch 1/30\n",
      "100/100 [==============================] - 2s 23ms/step - loss: 0.6067 - acc: 0.6660 - val_loss: 0.4471 - val_acc: 0.8150\n",
      "Epoch 2/30\n",
      "100/100 [==============================] - 2s 22ms/step - loss: 0.4414 - acc: 0.7990 - val_loss: 0.3641 - val_acc: 0.8590\n",
      "Epoch 3/30\n",
      "100/100 [==============================] - 2s 22ms/step - loss: 0.3518 - acc: 0.8575 - val_loss: 0.3317 - val_acc: 0.8580\n",
      "Epoch 4/30\n",
      "100/100 [==============================] - 2s 22ms/step - loss: 0.3199 - acc: 0.8640 - val_loss: 0.3025 - val_acc: 0.8850\n",
      "Epoch 5/30\n",
      "100/100 [==============================] - 2s 22ms/step - loss: 0.2840 - acc: 0.8890 - val_loss: 0.2881 - val_acc: 0.8820\n",
      "Epoch 6/30\n",
      "100/100 [==============================] - 2s 22ms/step - loss: 0.2590 - acc: 0.8975 - val_loss: 0.2735 - val_acc: 0.8960\n",
      "Epoch 7/30\n",
      "100/100 [==============================] - 2s 22ms/step - loss: 0.2481 - acc: 0.9085 - val_loss: 0.2648 - val_acc: 0.8990\n",
      "Epoch 8/30\n",
      "100/100 [==============================] - 3s 30ms/step - loss: 0.2335 - acc: 0.9110 - val_loss: 0.2586 - val_acc: 0.8960\n",
      "Epoch 9/30\n",
      "100/100 [==============================] - 4s 44ms/step - loss: 0.2079 - acc: 0.9200 - val_loss: 0.2645 - val_acc: 0.8840\n",
      "Epoch 10/30\n",
      "100/100 [==============================] - 2s 23ms/step - loss: 0.2083 - acc: 0.9205 - val_loss: 0.2594 - val_acc: 0.8860\n",
      "Epoch 11/30\n",
      "100/100 [==============================] - 2s 22ms/step - loss: 0.1973 - acc: 0.9265 - val_loss: 0.2468 - val_acc: 0.9020\n",
      "Epoch 12/30\n",
      "100/100 [==============================] - 2s 22ms/step - loss: 0.1841 - acc: 0.9290 - val_loss: 0.2440 - val_acc: 0.9050\n",
      "Epoch 13/30\n",
      "100/100 [==============================] - 2s 22ms/step - loss: 0.1771 - acc: 0.9350 - val_loss: 0.2444 - val_acc: 0.8980\n",
      "Epoch 14/30\n",
      "100/100 [==============================] - 2s 22ms/step - loss: 0.1638 - acc: 0.9445 - val_loss: 0.2460 - val_acc: 0.9080\n",
      "Epoch 15/30\n",
      "100/100 [==============================] - 2s 22ms/step - loss: 0.1673 - acc: 0.9360 - val_loss: 0.2391 - val_acc: 0.9060\n",
      "Epoch 16/30\n",
      "100/100 [==============================] - 2s 22ms/step - loss: 0.1549 - acc: 0.9495 - val_loss: 0.2408 - val_acc: 0.9020\n",
      "Epoch 17/30\n",
      "100/100 [==============================] - 2s 22ms/step - loss: 0.1472 - acc: 0.9470 - val_loss: 0.2414 - val_acc: 0.8990\n",
      "Epoch 18/30\n",
      "100/100 [==============================] - 2s 22ms/step - loss: 0.1403 - acc: 0.9530 - val_loss: 0.2372 - val_acc: 0.9030\n",
      "Epoch 19/30\n",
      "100/100 [==============================] - 2s 23ms/step - loss: 0.1325 - acc: 0.9540 - val_loss: 0.2436 - val_acc: 0.9000\n",
      "Epoch 20/30\n",
      "100/100 [==============================] - 2s 22ms/step - loss: 0.1291 - acc: 0.9535 - val_loss: 0.2435 - val_acc: 0.9000\n",
      "Epoch 21/30\n",
      "100/100 [==============================] - 2s 22ms/step - loss: 0.1251 - acc: 0.9565 - val_loss: 0.2385 - val_acc: 0.8990\n",
      "Epoch 22/30\n",
      "100/100 [==============================] - 2s 22ms/step - loss: 0.1166 - acc: 0.9655 - val_loss: 0.2368 - val_acc: 0.9050\n",
      "Epoch 23/30\n",
      "100/100 [==============================] - 2s 25ms/step - loss: 0.1166 - acc: 0.9630 - val_loss: 0.2384 - val_acc: 0.9040\n",
      "Epoch 24/30\n",
      "100/100 [==============================] - 2s 22ms/step - loss: 0.1099 - acc: 0.9640 - val_loss: 0.2363 - val_acc: 0.9010\n",
      "Epoch 25/30\n",
      "100/100 [==============================] - 2s 24ms/step - loss: 0.1088 - acc: 0.9655 - val_loss: 0.2401 - val_acc: 0.9000\n",
      "Epoch 26/30\n",
      "100/100 [==============================] - 2s 22ms/step - loss: 0.1018 - acc: 0.9685 - val_loss: 0.2386 - val_acc: 0.9030\n",
      "Epoch 27/30\n",
      "100/100 [==============================] - 2s 22ms/step - loss: 0.0945 - acc: 0.9675 - val_loss: 0.2371 - val_acc: 0.9010\n",
      "Epoch 28/30\n",
      "100/100 [==============================] - 2s 22ms/step - loss: 0.0954 - acc: 0.9720 - val_loss: 0.2369 - val_acc: 0.9000\n",
      "Epoch 29/30\n",
      "100/100 [==============================] - 2s 23ms/step - loss: 0.0892 - acc: 0.9740 - val_loss: 0.2545 - val_acc: 0.9020\n",
      "Epoch 30/30\n",
      "100/100 [==============================] - 2s 22ms/step - loss: 0.0855 - acc: 0.9760 - val_loss: 0.2392 - val_acc: 0.9010\n"
     ]
    }
   ],
   "source": [
    "from keras import models\n",
    "from keras import layers\n",
    "from keras import optimizers\n",
    "\n",
    "model = models.Sequential()\n",
    "model.add(layers.Dense(256, activation='relu', input_dim=4 * 4 * 512))\n",
    "model.add(layers.Dropout(0.5))\n",
    "model.add(layers.Dense(1, activation='sigmoid'))\n",
    "model.compile(optimizer=optimizers.RMSprop(lr=2e-5),\n",
    "    loss='binary_crossentropy',\n",
    "    metrics=['acc'])\n",
    "\n",
    "history = model.fit(train_features, train_labels,\n",
    "    epochs=30,\n",
    "    batch_size=20,\n",
    "    validation_data=(validation_features, validation_labels))"
   ]
  },
  {
   "cell_type": "code",
   "execution_count": 5,
   "metadata": {},
   "outputs": [
    {
     "data": {
      "image/png": "[encoded data removed]",
      "text/plain": [
       "<Figure size 432x288 with 1 Axes>"
      ]
     },
     "metadata": {
      "needs_background": "light"
     },
     "output_type": "display_data"
    },
    {
     "data": {
      "image/png": "[encoded data removed]",
      "text/plain": [
       "<Figure size 432x288 with 1 Axes>"
      ]
     },
     "metadata": {
      "needs_background": "light"
     },
     "output_type": "display_data"
    }
   ],
   "source": [
    "import matplotlib.pyplot as plt\n",
    "acc = history.history['acc']\n",
    "val_acc = history.history['val_acc']\n",
    "loss = history.history['loss']\n",
    "val_loss = history.history['val_loss']\n",
    "epochs = range(1, len(acc) + 1)\n",
    "plt.plot(epochs, acc, 'bo', label='Training acc')\n",
    "plt.plot(epochs, val_acc, 'b', label='Validation acc')\n",
    "plt.title('Training and validation accuracy')\n",
    "plt.legend()\n",
    "plt.figure()\n",
    "plt.plot(epochs, loss, 'bo', label='Training loss')\n",
    "plt.plot(epochs, val_loss, 'b', label='Validation loss')\n",
    "plt.title('Training and validation loss')\n",
    "plt.legend()\n",
    "plt.show()"
   ]
  },
  {
   "cell_type": "code",
   "execution_count": 11,
   "metadata": {},
   "outputs": [
    {
     "name": "stdout",
     "output_type": "stream",
     "text": [
      "50/50 [==============================] - 0s 3ms/step - loss: 0.2566 - acc: 0.8870\n",
      "test acc: 0.8870000243186951\n"
     ]
    }
   ],
   "source": [
    "test_loss, test_acc = model.evaluate(test_features, test_labels, steps=50)\n",
    "print('test acc:', test_acc)"
   ]
  },
  {
   "cell_type": "code",
   "execution_count": null,
   "metadata": {},
   "outputs": [],
   "source": []
  }
 ],
 "metadata": {
  "kernelspec": {
   "display_name": "Python 3",
   "language": "python",
   "name": "python3"
  },
  "language_info": {
   "codemirror_mode": {
    "name": "ipython",
    "version": 3
   },
   "file_extension": ".py",
   "mimetype": "text/x-python",
   "name": "python",
   "nbconvert_exporter": "python",
   "pygments_lexer": "ipython3",
   "version": "3.8.2"
  }
 },
 "nbformat": 4,
 "nbformat_minor": 4
}
