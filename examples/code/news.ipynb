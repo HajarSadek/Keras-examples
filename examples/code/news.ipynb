{
 "cells": [
  {
   "cell_type": "code",
   "execution_count": 1,
   "metadata": {},
   "outputs": [
    {
     "name": "stdout",
     "output_type": "stream",
     "text": [
      "Downloading data from https://storage.googleapis.com/tensorflow/tf-keras-datasets/reuters.npz\n",
      "2113536/2110848 [==============================] - 0s 0us/step\n"
     ]
    }
   ],
   "source": [
    "from keras.datasets import reuters\n",
    "(train_data, train_labels), (test_data, test_labels) = reuters.load_data(num_words=10000)"
   ]
  },
  {
   "cell_type": "code",
   "execution_count": 5,
   "metadata": {},
   "outputs": [
    {
     "data": {
      "text/plain": [
       "'? ? ? said as a result of its december acquisition of space co it expects earnings per share in 1987 of 1 15 to 1 30 dlrs per share up from 70 cts in 1986 the company said pretax net should rise to nine to 10 mln dlrs from six mln dlrs in 1986 and rental operation revenues to 19 to 22 mln dlrs from 12 5 mln dlrs it said cash flow per share this year should be 2 50 to three dlrs reuter 3'"
      ]
     },
     "execution_count": 5,
     "metadata": {},
     "output_type": "execute_result"
    }
   ],
   "source": [
    "# decode back to words\n",
    "word_index = reuters.get_word_index()\n",
    "reverse_word_index = dict([(value, key) for (key, value) in word_index.items()])\n",
    "decoded_newswire = ' '.join([reverse_word_index.get(i - 3, '?') for i in train_data[0]])\n",
    "decoded_newswire"
   ]
  },
  {
   "cell_type": "code",
   "execution_count": 7,
   "metadata": {},
   "outputs": [],
   "source": [
    "#vectorising data\n",
    "import numpy as np\n",
    "def vectorize_sequences(sequences, dimension=10000):\n",
    "    results = np.zeros((len(sequences), dimension))\n",
    "    for i, sequence in enumerate(sequences):\n",
    "        results[i, sequence] = 1.\n",
    "    return results\n",
    "x_train = vectorize_sequences(train_data)\n",
    "x_test = vectorize_sequences(test_data)"
   ]
  },
  {
   "cell_type": "code",
   "execution_count": 8,
   "metadata": {},
   "outputs": [],
   "source": [
    "#vectorising labels \n",
    "from keras.utils.np_utils import to_categorical\n",
    "one_hot_train_labels = to_categorical(train_labels)\n",
    "one_hot_test_labels = to_categorical(test_labels)"
   ]
  },
  {
   "cell_type": "code",
   "execution_count": 9,
   "metadata": {},
   "outputs": [],
   "source": [
    "from keras import models\n",
    "from keras import layers\n",
    "model = models.Sequential()\n",
    "model.add(layers.Dense(64, activation='relu', input_shape=(10000,)))\n",
    "model.add(layers.Dense(64, activation='relu'))\n",
    "model.add(layers.Dense(46, activation='softmax'))"
   ]
  },
  {
   "cell_type": "code",
   "execution_count": 10,
   "metadata": {},
   "outputs": [],
   "source": [
    "model.compile(optimizer='rmsprop', loss='categorical_crossentropy', metrics=['accuracy'])"
   ]
  },
  {
   "cell_type": "code",
   "execution_count": 11,
   "metadata": {},
   "outputs": [],
   "source": [
    "x_val = x_train[:1000]\n",
    "partial_x_train = x_train[1000:]\n",
    "y_val = one_hot_train_labels[:1000]\n",
    "partial_y_train = one_hot_train_labels[1000:]"
   ]
  },
  {
   "cell_type": "code",
   "execution_count": 12,
   "metadata": {},
   "outputs": [
    {
     "name": "stdout",
     "output_type": "stream",
     "text": [
      "Epoch 1/20\n",
      "16/16 [==============================] - 1s 56ms/step - loss: 2.6292 - accuracy: 0.5208 - val_loss: 1.7403 - val_accuracy: 0.6340\n",
      "Epoch 2/20\n",
      "16/16 [==============================] - 1s 69ms/step - loss: 1.4447 - accuracy: 0.6939 - val_loss: 1.3219 - val_accuracy: 0.7060\n",
      "Epoch 3/20\n",
      "16/16 [==============================] - 1s 70ms/step - loss: 1.0711 - accuracy: 0.7674 - val_loss: 1.1394 - val_accuracy: 0.7540\n",
      "Epoch 4/20\n",
      "16/16 [==============================] - 1s 48ms/step - loss: 0.8383 - accuracy: 0.8201 - val_loss: 1.0481 - val_accuracy: 0.7580\n",
      "Epoch 5/20\n",
      "16/16 [==============================] - 1s 35ms/step - loss: 0.6755 - accuracy: 0.8554 - val_loss: 0.9677 - val_accuracy: 0.7960\n",
      "Epoch 6/20\n",
      "16/16 [==============================] - 1s 36ms/step - loss: 0.5392 - accuracy: 0.8857 - val_loss: 0.9499 - val_accuracy: 0.7980\n",
      "Epoch 7/20\n",
      "16/16 [==============================] - 1s 34ms/step - loss: 0.4368 - accuracy: 0.9062 - val_loss: 0.9070 - val_accuracy: 0.8010\n",
      "Epoch 8/20\n",
      "16/16 [==============================] - 1s 38ms/step - loss: 0.3540 - accuracy: 0.9260 - val_loss: 0.8853 - val_accuracy: 0.8100\n",
      "Epoch 9/20\n",
      "16/16 [==============================] - 1s 35ms/step - loss: 0.2930 - accuracy: 0.9365 - val_loss: 0.8896 - val_accuracy: 0.8220\n",
      "Epoch 10/20\n",
      "16/16 [==============================] - 1s 35ms/step - loss: 0.2448 - accuracy: 0.9432 - val_loss: 0.9417 - val_accuracy: 0.8050\n",
      "Epoch 11/20\n",
      "16/16 [==============================] - 1s 36ms/step - loss: 0.2142 - accuracy: 0.9484 - val_loss: 0.9154 - val_accuracy: 0.8160\n",
      "Epoch 12/20\n",
      "16/16 [==============================] - 1s 35ms/step - loss: 0.1891 - accuracy: 0.9501 - val_loss: 0.9444 - val_accuracy: 0.8030\n",
      "Epoch 13/20\n",
      "16/16 [==============================] - 1s 36ms/step - loss: 0.1668 - accuracy: 0.9514 - val_loss: 0.9433 - val_accuracy: 0.8140\n",
      "Epoch 14/20\n",
      "16/16 [==============================] - 1s 33ms/step - loss: 0.1566 - accuracy: 0.9539 - val_loss: 0.9405 - val_accuracy: 0.8150\n",
      "Epoch 15/20\n",
      "16/16 [==============================] - 1s 36ms/step - loss: 0.1408 - accuracy: 0.9562 - val_loss: 0.9860 - val_accuracy: 0.8110\n",
      "Epoch 16/20\n",
      "16/16 [==============================] - 1s 35ms/step - loss: 0.1324 - accuracy: 0.9554 - val_loss: 0.9929 - val_accuracy: 0.8100\n",
      "Epoch 17/20\n",
      "16/16 [==============================] - 1s 35ms/step - loss: 0.1278 - accuracy: 0.9572 - val_loss: 1.0052 - val_accuracy: 0.8040\n",
      "Epoch 18/20\n",
      "16/16 [==============================] - 1s 35ms/step - loss: 0.1200 - accuracy: 0.9582 - val_loss: 1.0302 - val_accuracy: 0.8080\n",
      "Epoch 19/20\n",
      "16/16 [==============================] - 1s 33ms/step - loss: 0.1184 - accuracy: 0.9562 - val_loss: 1.0746 - val_accuracy: 0.7940\n",
      "Epoch 20/20\n",
      "16/16 [==============================] - 1s 36ms/step - loss: 0.1131 - accuracy: 0.9562 - val_loss: 1.0530 - val_accuracy: 0.8090\n"
     ]
    }
   ],
   "source": [
    "history = model.fit(partial_x_train, partial_y_train, epochs=20, batch_size=512, validation_data=(x_val, y_val))"
   ]
  },
  {
   "cell_type": "code",
   "execution_count": 14,
   "metadata": {},
   "outputs": [
    {
     "data": {
      "image/png": "[encoded data removed]",
      "text/plain": [
       "<Figure size 432x288 with 1 Axes>"
      ]
     },
     "metadata": {
      "needs_background": "light"
     },
     "output_type": "display_data"
    }
   ],
   "source": [
    "import matplotlib.pyplot as plt\n",
    "loss = history.history['loss']\n",
    "val_loss = history.history['val_loss']\n",
    "epochs = range(1, len(loss) + 1)\n",
    "plt.plot(epochs, loss, 'bo', label='Training loss')\n",
    "plt.plot(epochs, val_loss, 'b', label='Validation loss')\n",
    "plt.title('Training and validation loss')\n",
    "plt.xlabel('Epochs')\n",
    "plt.ylabel('Loss')\n",
    "plt.legend()\n",
    "plt.show()"
   ]
  },
  {
   "cell_type": "code",
   "execution_count": 17,
   "metadata": {},
   "outputs": [
    {
     "data": {
      "image/png": "[encoded data removed]",
      "text/plain": [
       "<Figure size 432x288 with 1 Axes>"
      ]
     },
     "metadata": {
      "needs_background": "light"
     },
     "output_type": "display_data"
    }
   ],
   "source": [
    "plt.clf()\n",
    "acc = history.history['accuracy']\n",
    "val_acc = history.history['val_accuracy']\n",
    "plt.plot(epochs, acc, 'bo', label='Training acc')\n",
    "plt.plot(epochs, val_acc, 'b', label='Validation acc')\n",
    "plt.title('Training and validation accuracy')\n",
    "plt.xlabel('Epochs')\n",
    "plt.ylabel('Loss')\n",
    "plt.legend()\n",
    "plt.show()"
   ]
  },
  {
   "cell_type": "code",
   "execution_count": 18,
   "metadata": {},
   "outputs": [
    {
     "name": "stdout",
     "output_type": "stream",
     "text": [
      "Epoch 1/9\n",
      "16/16 [==============================] - 1s 54ms/step - loss: 2.6332 - accuracy: 0.5081 - val_loss: 1.7244 - val_accuracy: 0.6690\n",
      "Epoch 2/9\n",
      "16/16 [==============================] - 1s 33ms/step - loss: 1.3982 - accuracy: 0.7144 - val_loss: 1.2967 - val_accuracy: 0.7310\n",
      "Epoch 3/9\n",
      "16/16 [==============================] - 1s 37ms/step - loss: 1.0438 - accuracy: 0.7804 - val_loss: 1.1478 - val_accuracy: 0.7440\n",
      "Epoch 4/9\n",
      "16/16 [==============================] - 1s 36ms/step - loss: 0.8308 - accuracy: 0.8240 - val_loss: 1.0437 - val_accuracy: 0.7760\n",
      "Epoch 5/9\n",
      "16/16 [==============================] - 1s 42ms/step - loss: 0.6654 - accuracy: 0.8577 - val_loss: 0.9695 - val_accuracy: 0.7910\n",
      "Epoch 6/9\n",
      "16/16 [==============================] - 1s 41ms/step - loss: 0.5354 - accuracy: 0.8865 - val_loss: 0.9388 - val_accuracy: 0.7990\n",
      "Epoch 7/9\n",
      "16/16 [==============================] - 1s 36ms/step - loss: 0.4383 - accuracy: 0.9084 - val_loss: 0.9071 - val_accuracy: 0.8130\n",
      "Epoch 8/9\n",
      "16/16 [==============================] - 1s 35ms/step - loss: 0.3513 - accuracy: 0.9271 - val_loss: 0.9073 - val_accuracy: 0.8130\n",
      "Epoch 9/9\n",
      "16/16 [==============================] - 1s 35ms/step - loss: 0.2959 - accuracy: 0.9359 - val_loss: 0.8939 - val_accuracy: 0.8250\n",
      "71/71 [==============================] - 0s 3ms/step - loss: 0.9866 - accuracy: 0.7854\n"
     ]
    },
    {
     "data": {
      "text/plain": [
       "[0.9865606427192688, 0.7853962779045105]"
      ]
     },
     "execution_count": 18,
     "metadata": {},
     "output_type": "execute_result"
    }
   ],
   "source": [
    "model = models.Sequential()\n",
    "model.add(layers.Dense(64, activation='relu', input_shape=(10000,)))\n",
    "model.add(layers.Dense(64, activation='relu'))\n",
    "model.add(layers.Dense(46, activation='softmax'))\n",
    "model.compile(optimizer='rmsprop', loss='categorical_crossentropy', metrics=['accuracy'])\n",
    "model.fit(partial_x_train, partial_y_train, epochs=9, batch_size=512, validation_data=(x_val, y_val))\n",
    "results = model.evaluate(x_test, one_hot_test_labels)\n",
    "results"
   ]
  },
  {
   "cell_type": "code",
   "execution_count": 26,
   "metadata": {},
   "outputs": [
    {
     "name": "stdout",
     "output_type": "stream",
     "text": [
      "(46,)\n",
      "1.0\n",
      "3\n",
      "10\n",
      "1\n"
     ]
    },
    {
     "data": {
      "text/plain": [
       "array([5.9615927e-06, 4.4250879e-05, 1.1828938e-05, 7.2926909e-01,\n",
       "       2.5559247e-01, 2.1109212e-05, 4.7059934e-06, 4.1763371e-05,\n",
       "       2.8635154e-03, 3.8576469e-05, 1.0691264e-05, 2.1187498e-03,\n",
       "       6.7687870e-05, 6.5240526e-04, 1.2526585e-05, 2.9120949e-06,\n",
       "       2.1118305e-03, 4.3220844e-04, 1.6258363e-04, 3.7873330e-04,\n",
       "       6.2013586e-04, 8.0884667e-04, 3.0246028e-05, 1.1305938e-04,\n",
       "       1.6209718e-06, 3.1103937e-05, 3.9747479e-06, 9.7838201e-05,\n",
       "       4.2159783e-05, 3.8023535e-04, 5.0047747e-05, 9.2890637e-05,\n",
       "       4.6780697e-05, 1.0279556e-04, 3.8788960e-04, 5.2212181e-05,\n",
       "       2.2213827e-03, 7.1589857e-05, 3.5803464e-06, 3.5203385e-04,\n",
       "       4.6050557e-04, 1.1322166e-04, 1.6629756e-05, 4.3280219e-05,\n",
       "       4.8259622e-06, 7.5189587e-06], dtype=float32)"
      ]
     },
     "execution_count": 26,
     "metadata": {},
     "output_type": "execute_result"
    }
   ],
   "source": [
    "predictions = model.predict(x_test)\n",
    "print(predictions[0].shape)\n",
    "print(np.sum(predictions[0]))\n",
    "print(np.argmax(predictions[0]))\n",
    "print(np.argmax(predictions[1]))\n",
    "print(np.argmax(predictions[2]))\n",
    "predictions[0]"
   ]
  },
  {
   "cell_type": "code",
   "execution_count": null,
   "metadata": {},
   "outputs": [],
   "source": []
  }
 ],
 "metadata": {
  "kernelspec": {
   "display_name": "Python 3",
   "language": "python",
   "name": "python3"
  },
  "language_info": {
   "codemirror_mode": {
    "name": "ipython",
    "version": 3
   },
   "file_extension": ".py",
   "mimetype": "text/x-python",
   "name": "python",
   "nbconvert_exporter": "python",
   "pygments_lexer": "ipython3",
   "version": "3.8.2"
  }
 },
 "nbformat": 4,
 "nbformat_minor": 4
}
